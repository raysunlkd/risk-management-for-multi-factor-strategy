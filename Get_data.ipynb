{
 "cells": [
  {
   "cell_type": "code",
   "execution_count": 1,
   "metadata": {},
   "outputs": [],
   "source": [
    "import pandas as pd\n",
    "import tushare as ts\n",
    "ts.set_token('f3e51596fc5879d70b0995a267569e203c5d7e888f6b0df1799f0cf0')\n",
    "pro=ts.pro_api()"
   ]
  },
  {
   "cell_type": "markdown",
   "metadata": {},
   "source": [
    "Obtain 20140101-20191230 daily and monthly market data of 399300.sz (CSI 300) index"
   ]
  },
  {
   "cell_type": "code",
   "execution_count": 84,
   "metadata": {},
   "outputs": [],
   "source": [
    "\n",
    "df1_d = pro.index_daily(ts_code='399300.SZ', start_date='20140101', end_date='20191230')"
   ]
  },
  {
   "cell_type": "markdown",
   "metadata": {},
   "source": [
    "Obtain CSI 300 20140101-20191230 all constituent stocks"
   ]
  },
  {
   "cell_type": "code",
   "execution_count": 85,
   "metadata": {},
   "outputs": [],
   "source": [
    "#Since tushare have limitation 5000 on the number of rows, \n",
    "#we get data by 6 times(6 months each time)\n",
    "df_1 = pro.index_weight(index_code='399300.SZ', start_date='20140101', end_date='20140630')\n",
    "df_2 = pro.index_weight(index_code='399300.SZ', start_date='20140701', end_date='20141231')\n",
    "df_3 = pro.index_weight(index_code='399300.SZ', start_date='20150101', end_date='20150630')\n",
    "df_4 = pro.index_weight(index_code='399300.SZ', start_date='20150701', end_date='20151231')\n",
    "df_5 = pro.index_weight(index_code='399300.SZ', start_date='20160101', end_date='20160630')\n",
    "df_6 = pro.index_weight(index_code='399300.SZ', start_date='20160701', end_date='20161231')\n",
    "df_7 = pro.index_weight(index_code='399300.SZ', start_date='20170101', end_date='20170630')\n",
    "df_8 = pro.index_weight(index_code='399300.SZ', start_date='20170701', end_date='20171231')\n",
    "df_9 = pro.index_weight(index_code='399300.SZ', start_date='20180101', end_date='20180630')\n",
    "df_10 = pro.index_weight(index_code='399300.SZ', start_date='20180701', end_date='20181231')\n",
    "df_11 = pro.index_weight(index_code='399300.SZ', start_date='20190101', end_date='20190630')\n",
    "df_12 = pro.index_weight(index_code='399300.SZ', start_date='20190701', end_date='20191231')"
   ]
  },
  {
   "cell_type": "code",
   "execution_count": 87,
   "metadata": {},
   "outputs": [],
   "source": [
    "index_weight=pd.concat([df_1,df_2,df_3,df_4,df_5,df_6,df_7,df_8,df_9,df_10,df_11,df_12],axis=0)"
   ]
  },
  {
   "cell_type": "code",
   "execution_count": 77,
   "metadata": {},
   "outputs": [],
   "source": [
    "stocks=pd.DataFrame(df['con_code'])\n",
    "stocks=stocks.drop_duplicates()\n",
    "stocks1=stocks.reset_index()"
   ]
  },
  {
   "cell_type": "markdown",
   "metadata": {},
   "source": [
    "Obtain 20140101-20191230 Daily and monthly market data of all constituent stocks in CSI 300(399300.SZ)"
   ]
  },
  {
   "cell_type": "code",
   "execution_count": 90,
   "metadata": {},
   "outputs": [],
   "source": [
    "Data=pd.DataFrame([])"
   ]
  },
  {
   "cell_type": "code",
   "execution_count": 91,
   "metadata": {},
   "outputs": [],
   "source": [
    "Index=pd.DataFrame([])\n",
    "for i in range(len(stocks1)):\n",
    "    new= pro.daily(ts_code=stocks1['con_code'].iloc[i], start_date='20140101', end_date='20191230')\n",
    "    new_index=pro.daily_basic(ts_code=stocks1['con_code'].iloc[i], start_date='20140101', end_date='20191230', fields='ts_code,trade_date,turnover_rate,volume_ratio,pe,pb,ps,dv_ratio,float_share,free_share,total_mv,circ_mv')\n",
    "    Index=pd.concat([Index,new_index],axis=0)\n"
   ]
  },
  {
   "cell_type": "code",
   "execution_count": 92,
   "metadata": {},
   "outputs": [],
   "source": [
    "#20140101-20191230 CSI 300 daily index data of all constituent stocks\n",
    "Index.to_csv('F:\\\\Courses\\\\HKUST_Semester_Spring\\\\MAFS5210\\\\project2\\\\index_daily.csv', sep=',', header=True, index=True)"
   ]
  },
  {
   "cell_type": "code",
   "execution_count": 102,
   "metadata": {},
   "outputs": [],
   "source": [
    "#20140101-20191230 daily market data of all components of CSI 300\n",
    "Data['pct_chg']=Data['pct_chg']/100\n",
    "Data.to_csv('F:\\\\Courses\\\\HKUST_Semester_Spring\\\\MAFS5210\\\\project2\\\\stocks_daily.csv', sep=',', header=True, index=True)"
   ]
  },
  {
   "cell_type": "code",
   "execution_count": 103,
   "metadata": {},
   "outputs": [],
   "source": [
    "#20140101-20191230 CSI 300 index daily market data\n",
    "df1_d['pct_chg']=df1_d['pct_chg']/100\n",
    "df1_d.to_csv('F:\\\\Courses\\\\HKUST_Semester_Spring\\\\MAFS5210\\\\project2\\\\CSI300_daily.csv', sep=',', header=True, index=True)"
   ]
  },
  {
   "cell_type": "code",
   "execution_count": 96,
   "metadata": {},
   "outputs": [],
   "source": [
    "#20140101-20191230 CSI 300 index composition stocks\n",
    "index_weight.to_csv('F:\\\\Courses\\\\HKUST_Semester_Spring\\\\MAFS5210\\\\project2\\\\CSI300.csv', sep=',', header=True, index=True)"
   ]
  },
  {
   "cell_type": "code",
   "execution_count": null,
   "metadata": {},
   "outputs": [],
   "source": []
  }
 ],
 "metadata": {
  "kernelspec": {
   "display_name": "Python 3",
   "language": "python",
   "name": "python3"
  },
  "language_info": {
   "codemirror_mode": {
    "name": "ipython",
    "version": 3
   },
   "file_extension": ".py",
   "mimetype": "text/x-python",
   "name": "python",
   "nbconvert_exporter": "python",
   "pygments_lexer": "ipython3",
   "version": "3.7.4"
  }
 },
 "nbformat": 4,
 "nbformat_minor": 2
}
